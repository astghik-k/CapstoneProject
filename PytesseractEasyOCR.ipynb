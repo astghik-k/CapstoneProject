{
 "cells": [
  {
   "cell_type": "code",
   "execution_count": 8,
   "id": "324d9043",
   "metadata": {},
   "outputs": [
    {
     "name": "stdout",
     "output_type": "stream",
     "text": [
      "Collecting pytesseract\n",
      "  Using cached pytesseract-0.3.10-py3-none-any.whl (14 kB)\n",
      "Collecting Pillow>=8.0.0\n",
      "  Downloading pillow-10.3.0-cp310-cp310-macosx_10_10_x86_64.whl (3.5 MB)\n",
      "\u001b[2K     \u001b[90m━━━━━━━━━━━━━━━━━━━━━━━━━━━━━━━━━━━━━━━━\u001b[0m \u001b[32m3.5/3.5 MB\u001b[0m \u001b[31m3.7 MB/s\u001b[0m eta \u001b[36m0:00:00\u001b[0m00:01\u001b[0m00:01\u001b[0m\n",
      "\u001b[?25hCollecting packaging>=21.3\n",
      "  Downloading packaging-24.0-py3-none-any.whl (53 kB)\n",
      "\u001b[2K     \u001b[90m━━━━━━━━━━━━━━━━━━━━━━━━━━━━━━━━━━━━━━━━\u001b[0m \u001b[32m53.5/53.5 kB\u001b[0m \u001b[31m6.4 MB/s\u001b[0m eta \u001b[36m0:00:00\u001b[0m\n",
      "\u001b[?25hInstalling collected packages: Pillow, packaging, pytesseract\n",
      "\u001b[31mERROR: pip's dependency resolver does not currently take into account all the packages that are installed. This behaviour is the source of the following dependency conflicts.\n",
      "torchvision 0.13.1 requires torch==1.12.1, but you have torch 2.2.1 which is incompatible.\n",
      "pytorchyolo 1.8.0 requires Pillow<10.0.0,>=9.1.0, but you have pillow 10.3.0 which is incompatible.\n",
      "pytorchyolo 1.8.0 requires torch<1.13.0,>=1.10.1, but you have torch 2.2.1 which is incompatible.\n",
      "chainlit 1.0.200 requires packaging<24.0,>=23.1, but you have packaging 24.0 which is incompatible.\u001b[0m\u001b[31m\n",
      "\u001b[0mSuccessfully installed Pillow-10.3.0 packaging-24.0 pytesseract-0.3.10\n",
      "Note: you may need to restart the kernel to use updated packages.\n"
     ]
    }
   ],
   "source": [
    "pip install pytesseract --target=/Users/astghik.kostanyan/Desktop/Capstone\n"
   ]
  },
  {
   "cell_type": "code",
   "execution_count": 1,
   "id": "ca63ee5e",
   "metadata": {},
   "outputs": [
    {
     "name": "stdout",
     "output_type": "stream",
     "text": [
      "Requirement already satisfied: google-cloud-vision in /Users/astghik.kostanyan/anaconda3/lib/python3.10/site-packages (3.7.2)\n",
      "Requirement already satisfied: proto-plus<2.0.0dev,>=1.22.3 in /Users/astghik.kostanyan/anaconda3/lib/python3.10/site-packages (from google-cloud-vision) (1.23.0)\n",
      "Requirement already satisfied: google-api-core[grpc]!=2.0.*,!=2.1.*,!=2.10.*,!=2.2.*,!=2.3.*,!=2.4.*,!=2.5.*,!=2.6.*,!=2.7.*,!=2.8.*,!=2.9.*,<3.0.0dev,>=1.34.1 in /Users/astghik.kostanyan/anaconda3/lib/python3.10/site-packages (from google-cloud-vision) (2.18.0)\n",
      "Requirement already satisfied: protobuf!=3.20.0,!=3.20.1,!=4.21.0,!=4.21.1,!=4.21.2,!=4.21.3,!=4.21.4,!=4.21.5,<5.0.0dev,>=3.19.5 in /Users/astghik.kostanyan/anaconda3/lib/python3.10/site-packages (from google-cloud-vision) (4.25.3)\n",
      "Requirement already satisfied: google-auth!=2.24.0,!=2.25.0,<3.0.0dev,>=2.14.1 in /Users/astghik.kostanyan/.local/lib/python3.10/site-packages (from google-cloud-vision) (2.25.2)\n",
      "Requirement already satisfied: requests<3.0.0.dev0,>=2.18.0 in /Users/astghik.kostanyan/anaconda3/lib/python3.10/site-packages (from google-api-core[grpc]!=2.0.*,!=2.1.*,!=2.10.*,!=2.2.*,!=2.3.*,!=2.4.*,!=2.5.*,!=2.6.*,!=2.7.*,!=2.8.*,!=2.9.*,<3.0.0dev,>=1.34.1->google-cloud-vision) (2.31.0)\n",
      "Requirement already satisfied: googleapis-common-protos<2.0.dev0,>=1.56.2 in /Users/astghik.kostanyan/anaconda3/lib/python3.10/site-packages (from google-api-core[grpc]!=2.0.*,!=2.1.*,!=2.10.*,!=2.2.*,!=2.3.*,!=2.4.*,!=2.5.*,!=2.6.*,!=2.7.*,!=2.8.*,!=2.9.*,<3.0.0dev,>=1.34.1->google-cloud-vision) (1.62.0)\n",
      "Requirement already satisfied: grpcio<2.0dev,>=1.33.2 in /Users/astghik.kostanyan/anaconda3/lib/python3.10/site-packages (from google-api-core[grpc]!=2.0.*,!=2.1.*,!=2.10.*,!=2.2.*,!=2.3.*,!=2.4.*,!=2.5.*,!=2.6.*,!=2.7.*,!=2.8.*,!=2.9.*,<3.0.0dev,>=1.34.1->google-cloud-vision) (1.62.1)\n",
      "Requirement already satisfied: grpcio-status<2.0.dev0,>=1.33.2 in /Users/astghik.kostanyan/anaconda3/lib/python3.10/site-packages (from google-api-core[grpc]!=2.0.*,!=2.1.*,!=2.10.*,!=2.2.*,!=2.3.*,!=2.4.*,!=2.5.*,!=2.6.*,!=2.7.*,!=2.8.*,!=2.9.*,<3.0.0dev,>=1.34.1->google-cloud-vision) (1.62.1)\n",
      "Requirement already satisfied: pyasn1-modules>=0.2.1 in /Users/astghik.kostanyan/anaconda3/lib/python3.10/site-packages (from google-auth!=2.24.0,!=2.25.0,<3.0.0dev,>=2.14.1->google-cloud-vision) (0.2.8)\n",
      "Requirement already satisfied: rsa<5,>=3.1.4 in /Users/astghik.kostanyan/.local/lib/python3.10/site-packages (from google-auth!=2.24.0,!=2.25.0,<3.0.0dev,>=2.14.1->google-cloud-vision) (4.9)\n",
      "Requirement already satisfied: cachetools<6.0,>=2.0.0 in /Users/astghik.kostanyan/.local/lib/python3.10/site-packages (from google-auth!=2.24.0,!=2.25.0,<3.0.0dev,>=2.14.1->google-cloud-vision) (5.3.2)\n",
      "Requirement already satisfied: pyasn1<0.5.0,>=0.4.6 in /Users/astghik.kostanyan/anaconda3/lib/python3.10/site-packages (from pyasn1-modules>=0.2.1->google-auth!=2.24.0,!=2.25.0,<3.0.0dev,>=2.14.1->google-cloud-vision) (0.4.8)\n",
      "Requirement already satisfied: charset-normalizer<4,>=2 in /Users/astghik.kostanyan/anaconda3/lib/python3.10/site-packages (from requests<3.0.0.dev0,>=2.18.0->google-api-core[grpc]!=2.0.*,!=2.1.*,!=2.10.*,!=2.2.*,!=2.3.*,!=2.4.*,!=2.5.*,!=2.6.*,!=2.7.*,!=2.8.*,!=2.9.*,<3.0.0dev,>=1.34.1->google-cloud-vision) (2.0.4)\n",
      "Requirement already satisfied: urllib3<3,>=1.21.1 in /Users/astghik.kostanyan/anaconda3/lib/python3.10/site-packages (from requests<3.0.0.dev0,>=2.18.0->google-api-core[grpc]!=2.0.*,!=2.1.*,!=2.10.*,!=2.2.*,!=2.3.*,!=2.4.*,!=2.5.*,!=2.6.*,!=2.7.*,!=2.8.*,!=2.9.*,<3.0.0dev,>=1.34.1->google-cloud-vision) (1.26.14)\n",
      "Requirement already satisfied: idna<4,>=2.5 in /Users/astghik.kostanyan/anaconda3/lib/python3.10/site-packages (from requests<3.0.0.dev0,>=2.18.0->google-api-core[grpc]!=2.0.*,!=2.1.*,!=2.10.*,!=2.2.*,!=2.3.*,!=2.4.*,!=2.5.*,!=2.6.*,!=2.7.*,!=2.8.*,!=2.9.*,<3.0.0dev,>=1.34.1->google-cloud-vision) (3.4)\n",
      "Requirement already satisfied: certifi>=2017.4.17 in /Users/astghik.kostanyan/anaconda3/lib/python3.10/site-packages (from requests<3.0.0.dev0,>=2.18.0->google-api-core[grpc]!=2.0.*,!=2.1.*,!=2.10.*,!=2.2.*,!=2.3.*,!=2.4.*,!=2.5.*,!=2.6.*,!=2.7.*,!=2.8.*,!=2.9.*,<3.0.0dev,>=1.34.1->google-cloud-vision) (2022.12.7)\n",
      "Note: you may need to restart the kernel to use updated packages.\n"
     ]
    }
   ],
   "source": [
    "pip install google-cloud-vision\n"
   ]
  },
  {
   "cell_type": "markdown",
   "id": "cca78da3",
   "metadata": {},
   "source": [
    "## pytesseract"
   ]
  },
  {
   "cell_type": "code",
   "execution_count": 2,
   "id": "ca47f763",
   "metadata": {},
   "outputs": [
    {
     "name": "stdout",
     "output_type": "stream",
     "text": [
      "Extracted Text: public state votol mage4N (ut lf sq.ucce) f 1);\n",
      "atl JO arr ee ee newintlsquare.teng thO )Lequare.w ath! ss\n",
      "m&L JL) arrBackuacde ney ck Coquare Nevo Ht) )E sq core w dh() J;\n",
      "\n",
      "coun =f}\n",
      "\n",
      "ie cor (Sart. [en sth, ne a\n",
      "foe bak) 22% feos HHS IL\n",
      "\n",
      "gor Pore ard rots) oe )\n",
      "\n",
      "ane Padee Looe lene Vhs) Gir Jength-j) = oank\n",
      "\n",
      "{ Cat itead\n",
      "\n",
      "i\n",
      "\n",
      "ee maar.\n",
      "\n",
      "Use the backside, if needed Problem 4 of 4\n",
      "\n"
     ]
    }
   ],
   "source": [
    "import pytesseract\n",
    "from PIL import Image\n",
    "import cv2\n",
    "\n",
    "\n",
    "image_path = 'processed/00P.MT.170317.L088_page_6_cropped.jpg'\n",
    "image = Image.open(image_path)\n",
    "\n",
    "# Perform OCR\n",
    "text = pytesseract.image_to_string(image, lang='eng')\n",
    "\n",
    "# Get confidence scores\n",
    "confidences = []\n",
    "boxes = pytesseract.image_to_boxes(image)\n",
    "for b in boxes.splitlines():\n",
    "    b = b.split(' ')\n",
    "    character = b[0]\n",
    "    confidence = float(b[-1])\n",
    "    confidences.append((character, confidence))\n",
    "\n",
    "# Print extracted text\n",
    "print(\"Extracted Text:\", text)"
   ]
  },
  {
   "cell_type": "markdown",
   "id": "acb7301e",
   "metadata": {},
   "source": [
    "## EasyOCR"
   ]
  },
  {
   "cell_type": "code",
   "execution_count": 3,
   "id": "adb95165",
   "metadata": {},
   "outputs": [
    {
     "name": "stderr",
     "output_type": "stream",
     "text": [
      "/Users/astghik.kostanyan/anaconda3/lib/python3.10/site-packages/torchvision/io/image.py:13: UserWarning: Failed to load image Python extension: dlopen(/Users/astghik.kostanyan/anaconda3/lib/python3.10/site-packages/torchvision/image.so, 0x0006): Symbol not found: __ZN3c1017RegisterOperatorsD1Ev\n",
      "  Referenced from: <FD9BEDA3-7FDE-3298-84BC-7D1F1F8E037D> /Users/astghik.kostanyan/anaconda3/lib/python3.10/site-packages/torchvision/image.so\n",
      "  Expected in:     <A84DFEFF-287E-3B94-A7DB-731FA5F9CBBC> /Users/astghik.kostanyan/anaconda3/lib/python3.10/site-packages/torch/lib/libtorch_cpu.dylib\n",
      "  warn(f\"Failed to load image Python extension: {e}\")\n"
     ]
    },
    {
     "name": "stdout",
     "output_type": "stream",
     "text": [
      "Predicted Text:\n",
      "V oicl\n",
      "magic 4N(tlHI)\n",
      "2quGre ,\n",
      "arrRocnr\n",
      "5\n",
      "newintlsquare l\n",
      "+h\n",
      "0Jlsuarc:'\n",
      "m4[ J JarcBack_ardt-\n",
      "1&)\n",
      "twllsquare\n",
      "HkJ)lsg\n",
      "v#() J;\n",
      "@uh F\n",
      "= J )\n",
      "For (Int\n",
      "2 0, i\n",
      "Sar  [ensth;i+4[\n",
      "foc\n",
      "(tjed i85-0jt?) {\n",
      "[i)l; )\n",
      "=\n",
      "arRakari Lorr: lerq4-] 6r/yyf-}\n",
      ">\n",
      "Csunl;\n",
      "Coccf\n",
      "Use the backside, if needed\n",
      "Problem 4 of 4\n",
      "sta#c\n",
      "Publc\n",
      "widk() J;\n",
      "In#[ Jl)\n",
      "(enq\n",
      "Ien\n",
      "u6re\n",
      "Int\n",
      "couh+\n",
      "GnForwarc\n",
      "clarj<\n"
     ]
    }
   ],
   "source": [
    "import easyocr\n",
    "\n",
    "reader = easyocr.Reader(['en'])\n",
    "result = reader.readtext(image_path)\n",
    "\n",
    "print(\"Predicted Text:\")\n",
    "for text_result in result:\n",
    "    text = text_result[1]\n",
    "    print(text)\n"
   ]
  },
  {
   "cell_type": "markdown",
   "id": "fb3a3c87",
   "metadata": {},
   "source": [
    "## Google Vision"
   ]
  },
  {
   "cell_type": "code",
   "execution_count": 4,
   "id": "97acc13b",
   "metadata": {},
   "outputs": [
    {
     "name": "stdout",
     "output_type": "stream",
     "text": [
      "public static void magic 4N (int[][] square) {\n",
      "int[][] arr Forward = new int[square.length()][square.width() );\n",
      "mit [ ][ ] arr Backwards new int (square. lengthi)] [square.\n",
      "int count = 1;\n",
      "for (int i=0; is arr. length; i++;\n",
      "for (int j = 0; jsam. dength; j++) {\n",
      "am Forward [i][j] = count;\n",
      "}\n",
      "width());\n",
      "arr Backward [arr.length-1] bar.length-j] = count;\n",
      "Count Change?\n",
      "}\n",
      "Use the backside, if needed\n",
      "Problem 4 of 4\n"
     ]
    }
   ],
   "source": [
    "import io\n",
    "from google.cloud import vision\n",
    "from google.cloud.vision_v1 import types\n",
    "\n",
    "\n",
    "\n",
    "client = vision.ImageAnnotatorClient.from_service_account_json('capstone-420319-c5b354e85ad0.json')\n",
    "\n",
    "with io.open(image_path, 'rb') as image_file:\n",
    "    content = image_file.read()\n",
    "\n",
    "image = vision.Image(content=content)\n",
    "\n",
    "# Perform handwritten text detection\n",
    "response = client.text_detection(image=image)\n",
    "\n",
    "# Extract text and confidence scores\n",
    "texts = response.text_annotations\n",
    "extracted_text = texts[0].description\n",
    "\n",
    "# Print the extracted text\n",
    "\n"
   ]
  },
  {
   "cell_type": "code",
   "execution_count": null,
   "id": "fa8132c0",
   "metadata": {},
   "outputs": [],
   "source": []
  }
 ],
 "metadata": {
  "kernelspec": {
   "display_name": "Python 3 (ipykernel)",
   "language": "python",
   "name": "python3"
  },
  "language_info": {
   "codemirror_mode": {
    "name": "ipython",
    "version": 3
   },
   "file_extension": ".py",
   "mimetype": "text/x-python",
   "name": "python",
   "nbconvert_exporter": "python",
   "pygments_lexer": "ipython3",
   "version": "3.10.9"
  }
 },
 "nbformat": 4,
 "nbformat_minor": 5
}
